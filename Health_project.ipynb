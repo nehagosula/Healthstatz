{
  "nbformat": 4,
  "nbformat_minor": 0,
  "metadata": {
    "colab": {
      "provenance": [],
      "gpuType": "T4",
      "include_colab_link": true
    },
    "kernelspec": {
      "name": "python3",
      "display_name": "Python 3"
    }
  },
  "cells": [
    {
      "cell_type": "markdown",
      "metadata": {
        "id": "view-in-github",
        "colab_type": "text"
      },
      "source": [
        "<a href=\"https://colab.research.google.com/github/nehagosula/Healthstatz/blob/main/Health_project.ipynb\" target=\"_parent\"><img src=\"https://colab.research.google.com/assets/colab-badge.svg\" alt=\"Open In Colab\"/></a>"
      ]
    },
    {
      "cell_type": "markdown",
      "source": [
        "# Health and Well being project"
      ],
      "metadata": {
        "id": "ZE5hzvqc6os7"
      }
    },
    {
      "cell_type": "markdown",
      "metadata": {
        "id": "LWd1UlMnhT2s"
      },
      "source": [
        "## Importing the libraries"
      ]
    },
    {
      "cell_type": "code",
      "source": [
        "import pandas as pd\n",
        "from sklearn.model_selection import train_test_split\n",
        "from sklearn.ensemble import RandomForestClassifier\n",
        "from sklearn.metrics import classification_report, roc_auc_score, roc_curve\n",
        "import matplotlib.pyplot as plt\n",
        "from sklearn.preprocessing import StandardScaler\n",
        "\n"
      ],
      "metadata": {
        "id": "NtMwlrq26ls8"
      },
      "execution_count": null,
      "outputs": []
    },
    {
      "cell_type": "markdown",
      "metadata": {
        "id": "K1VMqkGvhc3-"
      },
      "source": [
        "## Importing the dataset"
      ]
    },
    {
      "cell_type": "code",
      "source": [
        "df = pd.read_csv('data.csv')\n"
      ],
      "metadata": {
        "id": "7AONqpfWuD_B"
      },
      "execution_count": null,
      "outputs": []
    },
    {
      "cell_type": "code",
      "source": [
        "X = df[['age', 'BMI', 'blood_pressure', 'smoking_status', 'exercise_frequency']]\n",
        "y = df['diabetes']"
      ],
      "metadata": {
        "id": "_GUnLQdY7TlU"
      },
      "execution_count": null,
      "outputs": []
    },
    {
      "cell_type": "code",
      "source": [
        "print(X)"
      ],
      "metadata": {
        "colab": {
          "base_uri": "https://localhost:8080/"
        },
        "id": "9dZ6cMJM7W9s",
        "outputId": "7c26b310-948b-4fd7-bfae-d0a302472715"
      },
      "execution_count": null,
      "outputs": [
        {
          "output_type": "stream",
          "name": "stdout",
          "text": [
            "    age   BMI  blood_pressure  smoking_status  exercise_frequency\n",
            "0    25  22.5             120               0                   3\n",
            "1    30  28.0             130               1                   1\n",
            "2    45  31.0             140               1                   0\n",
            "3    50  26.5             150               1                   2\n",
            "4    35  24.0             135               0                   3\n",
            "5    60  32.0             160               1                   0\n",
            "6    70  29.5             145               1                   1\n",
            "7    40  26.8             125               0                   2\n",
            "8    55  34.0             155               0                   3\n",
            "9    65  30.0             165               1                   0\n",
            "10   28  23.0             118               0                   4\n",
            "11   42  29.5             142               1                   1\n",
            "12   38  26.8             138               0                   3\n",
            "13   52  34.0             158               1                   0\n",
            "14   46  27.2             145               0                   2\n",
            "15   39  31.5             147               0                   2\n",
            "16   48  30.2             149               1                   1\n",
            "17   55  29.8             155               1                   0\n",
            "18   62  33.5             160               1                   1\n",
            "19   31  24.5             134               0                   3\n",
            "20   54  30.5             140               0                   2\n",
            "21   72  29.8             137               1                   0\n",
            "22   33  25.0             150               0                   3\n",
            "23   44  29.0             162               1                   1\n",
            "24   37  30.0             122               0                   2\n",
            "25   58  32.2             144               1                   0\n",
            "26   66  27.0             154               1                   1\n",
            "27   41  22.0             130               0                   4\n",
            "28   49  26.0             144               0                   2\n"
          ]
        }
      ]
    },
    {
      "cell_type": "code",
      "source": [
        "print(y)"
      ],
      "metadata": {
        "colab": {
          "base_uri": "https://localhost:8080/"
        },
        "id": "WUtjeg-m7atC",
        "outputId": "3162bef9-1c25-4220-85d7-049041806d28"
      },
      "execution_count": null,
      "outputs": [
        {
          "output_type": "stream",
          "name": "stdout",
          "text": [
            "0     0\n",
            "1     1\n",
            "2     1\n",
            "3     0\n",
            "4     1\n",
            "5     1\n",
            "6     0\n",
            "7     1\n",
            "8     1\n",
            "9     0\n",
            "10    1\n",
            "11    0\n",
            "12    0\n",
            "13    1\n",
            "14    0\n",
            "15    1\n",
            "16    1\n",
            "17    1\n",
            "18    1\n",
            "19    0\n",
            "20    1\n",
            "21    1\n",
            "22    0\n",
            "23    1\n",
            "24    0\n",
            "25    1\n",
            "26    1\n",
            "27    0\n",
            "28    0\n",
            "Name: diabetes, dtype: int64\n"
          ]
        }
      ]
    },
    {
      "cell_type": "code",
      "source": [
        "scaler = StandardScaler()\n",
        "X_scaled = scaler.fit_transform(X)"
      ],
      "metadata": {
        "id": "rMFwq_lMCQ1K"
      },
      "execution_count": null,
      "outputs": []
    },
    {
      "cell_type": "code",
      "source": [
        "X_train, X_test, y_train, y_test = train_test_split(X, y, test_size=0.2, random_state=42)\n",
        "model = RandomForestClassifier(n_estimators=100, random_state=42)\n",
        "model.fit(X_train, y_train)\n",
        "y_pred = model.predict(X_test)\n"
      ],
      "metadata": {
        "id": "iVc0nQZz7_UF"
      },
      "execution_count": null,
      "outputs": []
    },
    {
      "cell_type": "code",
      "source": [
        "print(X_train)\n",
        "print(X_test)"
      ],
      "metadata": {
        "id": "S230s9rIjuZn",
        "outputId": "34f43e5b-b6a0-4aae-d863-362947f6ea1b",
        "colab": {
          "base_uri": "https://localhost:8080/"
        }
      },
      "execution_count": null,
      "outputs": [
        {
          "output_type": "stream",
          "name": "stdout",
          "text": [
            "    age   BMI  blood_pressure  smoking_status  exercise_frequency\n",
            "21   72  29.8             137               1                   0\n",
            "0    25  22.5             120               0                   3\n",
            "26   66  27.0             154               1                   1\n",
            "13   52  34.0             158               1                   0\n",
            "15   39  31.5             147               0                   2\n",
            "11   42  29.5             142               1                   1\n",
            "17   55  29.8             155               1                   0\n",
            "1    30  28.0             130               1                   1\n",
            "4    35  24.0             135               0                   3\n",
            "5    60  32.0             160               1                   0\n",
            "2    45  31.0             140               1                   0\n",
            "24   37  30.0             122               0                   2\n",
            "3    50  26.5             150               1                   2\n",
            "23   44  29.0             162               1                   1\n",
            "25   58  32.2             144               1                   0\n",
            "18   62  33.5             160               1                   1\n",
            "28   49  26.0             144               0                   2\n",
            "20   54  30.5             140               0                   2\n",
            "7    40  26.8             125               0                   2\n",
            "10   28  23.0             118               0                   4\n",
            "14   46  27.2             145               0                   2\n",
            "19   31  24.5             134               0                   3\n",
            "6    70  29.5             145               1                   1\n",
            "    age   BMI  blood_pressure  smoking_status  exercise_frequency\n",
            "27   41  22.0             130               0                   4\n",
            "16   48  30.2             149               1                   1\n",
            "12   38  26.8             138               0                   3\n",
            "22   33  25.0             150               0                   3\n",
            "8    55  34.0             155               0                   3\n",
            "9    65  30.0             165               1                   0\n"
          ]
        }
      ]
    },
    {
      "cell_type": "markdown",
      "metadata": {
        "id": "yyxW5b395mR2"
      },
      "source": [
        "## Evaluating model"
      ]
    },
    {
      "cell_type": "code",
      "source": [
        "print(classification_report(y_test, y_pred))\n",
        "roc_auc = roc_auc_score(y_test, model.predict_proba(X_test)[:, 1])\n",
        "print(f'ROC AUC Score: {roc_auc}')"
      ],
      "metadata": {
        "colab": {
          "base_uri": "https://localhost:8080/"
        },
        "id": "7w_GnIrp9TuI",
        "outputId": "8194a5f4-3525-4678-e5c9-b15c2cc4cf40"
      },
      "execution_count": null,
      "outputs": [
        {
          "output_type": "stream",
          "name": "stdout",
          "text": [
            "              precision    recall  f1-score   support\n",
            "\n",
            "           0       1.00      0.25      0.40         4\n",
            "           1       0.40      1.00      0.57         2\n",
            "\n",
            "    accuracy                           0.50         6\n",
            "   macro avg       0.70      0.62      0.49         6\n",
            "weighted avg       0.80      0.50      0.46         6\n",
            "\n",
            "ROC AUC Score: 0.5\n"
          ]
        }
      ]
    },
    {
      "cell_type": "markdown",
      "metadata": {
        "id": "vKYVQH-l5NpE"
      },
      "source": [
        "## Plotting graph"
      ]
    },
    {
      "cell_type": "code",
      "source": [
        "fpr, tpr, thresholds = roc_curve(y_test, model.predict_proba(X_test)[:, 1])\n",
        "\n",
        "plt.figure(figsize=(10, 6))\n",
        "plt.plot(fpr, tpr, color='blue', label='ROC Curve (area = {:.2f})'.format(roc_auc))\n",
        "plt.plot([0, 1], [0, 1], color='red', linestyle='--')  # Diagonal line\n",
        "plt.title('Receiver Operating Characteristic (ROC) Curve')\n",
        "plt.xlabel('False Positive Rate')\n",
        "plt.ylabel('True Positive Rate')\n",
        "plt.legend()\n",
        "plt.grid(True)\n",
        "plt.show()"
      ],
      "metadata": {
        "colab": {
          "base_uri": "https://localhost:8080/",
          "height": 564
        },
        "id": "X49R_He19c64",
        "outputId": "0b0a19d2-4e48-496b-96df-da5359c871b7"
      },
      "execution_count": null,
      "outputs": [
        {
          "output_type": "display_data",
          "data": {
            "text/plain": [
              "<Figure size 1000x600 with 1 Axes>"
            ],
            "image/png": "[encoded data removed]"
          },
          "metadata": {}
        }
      ]
    },
    {
      "cell_type": "markdown",
      "source": [
        "## predicting the risk"
      ],
      "metadata": {
        "id": "q5cSYVRSD0Qo"
      }
    },
    {
      "cell_type": "code",
      "source": [
        "def predict_diabetes(age, bmi, blood_pressure, smoking_status, exercise_frequency):\n",
        "    input_data = pd.DataFrame({\n",
        "        'age': [age],\n",
        "        'BMI': [bmi],\n",
        "        'blood_pressure': [blood_pressure],\n",
        "        'smoking_status': [smoking_status],\n",
        "        'exercise_frequency': [exercise_frequency]\n",
        "    })\n",
        "\n",
        "    prediction = model.predict(input_data)[0]\n",
        "    probability = model.predict_proba(input_data)[:, 1][0]\n",
        "\n",
        "    if prediction == 1:\n",
        "        result = \"At risk of developing diabetes.\"\n",
        "    else:\n",
        "        result = \"Low risk of developing diabetes.\"\n",
        "\n",
        "    return result, probability"
      ],
      "metadata": {
        "id": "dPtkG6W4-UGg"
      },
      "execution_count": null,
      "outputs": []
    },
    {
      "cell_type": "code",
      "source": [
        "def get_user_input():\n",
        "    print(\"Please enter the following information:\")\n",
        "    age = int(input(\"Age: \"))\n",
        "    bmi = float(input(\"BMI: \"))\n",
        "    blood_pressure = int(input(\"Blood Pressure: \"))\n",
        "    smoking_status = int(input(\"Smoking Status (0 for non-smoker, 1 for smoker): \"))\n",
        "    exercise_frequency = int(input(\"Exercise Frequency (times per week): \"))\n",
        "\n",
        "    return age, bmi, blood_pressure, smoking_status, exercise_frequency"
      ],
      "metadata": {
        "id": "Ad8dyH-w_csW"
      },
      "execution_count": null,
      "outputs": []
    },
    {
      "cell_type": "code",
      "source": [
        "user_data = get_user_input()\n",
        "result, probability = predict_diabetes(*user_data)\n",
        "print(f\"Prediction: {result} (Probability: {probability:.2f})\")"
      ],
      "metadata": {
        "colab": {
          "base_uri": "https://localhost:8080/"
        },
        "id": "f12MrBbo_jN-",
        "outputId": "770efd3c-c8dd-4c2a-fa8b-de1f9843d238"
      },
      "execution_count": null,
      "outputs": [
        {
          "output_type": "stream",
          "name": "stdout",
          "text": [
            "Please enter the following information:\n",
            "Age: 18\n",
            "BMI: 27.6\n",
            "Blood Pressure: 128\n",
            "Smoking Status (0 for non-smoker, 1 for smoker): 0\n",
            "Exercise Frequency (times per week): 3\n",
            "Prediction: Low risk of developing diabetes. (Probability: 0.48)\n"
          ]
        }
      ]
    }
  ]
}